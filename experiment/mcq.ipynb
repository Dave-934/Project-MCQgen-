{
 "cells": [
  {
   "cell_type": "code",
   "execution_count": 2,
   "metadata": {},
   "outputs": [],
   "source": [
    "import os\n",
    "import json\n",
    "import pandas as pd\n",
    "import traceback"
   ]
  },
  {
   "cell_type": "code",
   "execution_count": 3,
   "metadata": {},
   "outputs": [
    {
     "name": "stdout",
     "output_type": "stream",
     "text": [
      "Note: you may need to restart the kernel to use updated packages.\n"
     ]
    }
   ],
   "source": [
    "pip install -qU langchain-groq"
   ]
  },
  {
   "cell_type": "code",
   "execution_count": 7,
   "metadata": {},
   "outputs": [],
   "source": [
    "import getpass\n",
    "import os\n",
    "\n",
    "if not os.environ.get(\"Groq_API_Key\"):\n",
    "    os.environ[\"GROQ_API_KEY\"]=getpass.getpass(\"Enter API key for Groq:\")"
   ]
  },
  {
   "cell_type": "code",
   "execution_count": 8,
   "metadata": {},
   "outputs": [],
   "source": [
    "from langchain_groq import ChatGroq\n",
    "model = ChatGroq(model=\"llama3-8b-8192\")"
   ]
  },
  {
   "cell_type": "code",
   "execution_count": 9,
   "metadata": {},
   "outputs": [],
   "source": [
    "from langchain.prompts import PromptTemplate\n",
    "from langchain.chains import LLMChain\n",
    "from langchain.chains import SequentialChain\n",
    "import PyPDF2"
   ]
  },
  {
   "cell_type": "code",
   "execution_count": null,
   "metadata": {},
   "outputs": [],
   "source": [
    "RESPONSE_JSON = {\n",
    "    \"1\": {\n",
    "        \"Q1\": \"Multiple Choice Question\",\n",
    "        \"Options\": {\n",
    "            \"a\": \"choose this\",\n",
    "            \"b\": \"choose this\",\n",
    "            \"c\": \"choose this\",\n",
    "            \"d\": \"choose this\",\n",
    "        },\n",
    "        \"Correct\": \"Correct Answer\"\n",
    "    },\n",
    "    \"2\": {\n",
    "        \"Q2\": \"Multiple Choice Question\",\n",
    "        \"Options\": {\n",
    "            \"a\": \"choose this\",\n",
    "            \"b\": \"choose this\",\n",
    "            \"c\": \"choose this\",\n",
    "            \"d\": \"choose this\",\n",
    "        },\n",
    "        \"Correct\": \"Correct Answer\"\n",
    "    },\n",
    "    \"3\": {\n",
    "        \"Q3\": \"Multiple Choice Question\",\n",
    "        \"Options\": {\n",
    "            \"a\": \"choose this\",\n",
    "            \"b\": \"choose this\",\n",
    "            \"c\": \"choose this\",\n",
    "            \"d\": \"choose this\",\n",
    "        },\n",
    "        \"Correct\": \"Correct Answer\"\n",
    "    },\n",
    "}"
   ]
  },
  {
   "cell_type": "code",
   "execution_count": null,
   "metadata": {},
   "outputs": [],
   "source": [
    "template = \"\"\"\n",
    "Text:{text}\n",
    "You are an expert AI MCQ maker. From the above given text, it is you job to \\\n",
    "create a quiz of {number} multiple choice questions for {subject} students in a {difficult} level.\n",
    "Make Sure the questions do not get repeated and check all the questions to be vomforming the text as well.\n",
    "Make sure to format your response like RESPONSE_JSON below and use it as a guide. \\\n",
    "Ensure to make {number} MCQs\n",
    "### RESPONSE_JSON\n",
    "{response_json}\n",
    "\n",
    "\"\"\"\n",
    "\n",
    "# can write this as well,\n",
    "# template = \"\"\"\n",
    "# You are an AI teacher. Based on the following text, create 3 multiple-choice questions (MCQs) with the correct answers. \n",
    "# The questions should be relevant and based on the key concepts in the text. The format should be as follows:\n",
    "# 1. Question: {question}\n",
    "#    a) Option 1\n",
    "#    b) Option 2\n",
    "#    c) Option 3\n",
    "#    d) Option 4\n",
    "#    Correct answer: {correct_answer}\n",
    "\n",
    "# Text: {text}\n",
    "\n",
    "# Please generate the MCQs.\n",
    "# \"\"\""
   ]
  },
  {
   "cell_type": "code",
   "execution_count": null,
   "metadata": {},
   "outputs": [],
   "source": [
    "Quiz_Generation_Template = PromptTemplate(\n",
    "    input_variables=[\"text\", \"number\", \"subject\", \"level\", \"response_json\"],\n",
    "    template=template\n",
    ")"
   ]
  }
 ],
 "metadata": {
  "kernelspec": {
   "display_name": "mcqgen",
   "language": "python",
   "name": "python3"
  },
  "language_info": {
   "codemirror_mode": {
    "name": "ipython",
    "version": 3
   },
   "file_extension": ".py",
   "mimetype": "text/x-python",
   "name": "python",
   "nbconvert_exporter": "python",
   "pygments_lexer": "ipython3",
   "version": "3.8.20"
  }
 },
 "nbformat": 4,
 "nbformat_minor": 2
}
