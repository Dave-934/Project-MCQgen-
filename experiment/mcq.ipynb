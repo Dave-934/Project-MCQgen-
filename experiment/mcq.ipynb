{
 "cells": [
  {
   "cell_type": "code",
   "execution_count": 1,
   "metadata": {},
   "outputs": [],
   "source": [
    "import os\n",
    "import json\n",
    "import pandas as pd\n",
    "import traceback"
   ]
  },
  {
   "cell_type": "code",
   "execution_count": 2,
   "metadata": {},
   "outputs": [
    {
     "name": "stdout",
     "output_type": "stream",
     "text": [
      "Note: you may need to restart the kernel to use updated packages.\n"
     ]
    }
   ],
   "source": [
    "pip install -qU langchain-groq"
   ]
  },
  {
   "cell_type": "code",
   "execution_count": 4,
   "metadata": {},
   "outputs": [],
   "source": [
    "import getpass\n",
    "import os\n",
    "\n",
    "if not os.environ.get(\"Groq_API_Key\"):\n",
    "    os.environ[\"GROQ_API_KEY\"]=getpass.getpass(\"Enter API key for Groq:\")"
   ]
  },
  {
   "cell_type": "code",
   "execution_count": 5,
   "metadata": {},
   "outputs": [],
   "source": [
    "from langchain_groq import ChatGroq\n",
    "model = ChatGroq(model=\"llama3-8b-8192\")"
   ]
  },
  {
   "cell_type": "code",
   "execution_count": 60,
   "metadata": {},
   "outputs": [],
   "source": [
    "from typing import Any, Dict, List\n",
    "\n",
    "from langchain_core.callbacks import BaseCallbackHandler\n",
    "from langchain_core.messages import BaseMessage\n",
    "from langchain_core.outputs import LLMResult\n",
    "from langchain.prompts import PromptTemplate\n",
    "from langchain.chains import LLMChain\n",
    "from langchain.chains import SequentialChain\n",
    "import PyPDF2"
   ]
  },
  {
   "cell_type": "code",
   "execution_count": 7,
   "metadata": {},
   "outputs": [],
   "source": [
    "RESPONSE_JSON = {\n",
    "    \"1\": {\n",
    "        \"Q1\": \"Multiple Choice Question\",\n",
    "        \"Options\": {\n",
    "            \"a\": \"choose this\",\n",
    "            \"b\": \"choose this\",\n",
    "            \"c\": \"choose this\",\n",
    "            \"d\": \"choose this\",\n",
    "        },\n",
    "        \"Correct\": \"Correct Answer\"\n",
    "    },\n",
    "    \"2\": {\n",
    "        \"Q2\": \"Multiple Choice Question\",\n",
    "        \"Options\": {\n",
    "            \"a\": \"choose this\",\n",
    "            \"b\": \"choose this\",\n",
    "            \"c\": \"choose this\",\n",
    "            \"d\": \"choose this\",\n",
    "        },\n",
    "        \"Correct\": \"Correct Answer\"\n",
    "    },\n",
    "    \"3\": {\n",
    "        \"Q3\": \"Multiple Choice Question\",\n",
    "        \"Options\": {\n",
    "            \"a\": \"choose this\",\n",
    "            \"b\": \"choose this\",\n",
    "            \"c\": \"choose this\",\n",
    "            \"d\": \"choose this\",\n",
    "        },\n",
    "        \"Correct\": \"Correct Answer\"\n",
    "    },\n",
    "}"
   ]
  },
  {
   "cell_type": "code",
   "execution_count": 8,
   "metadata": {},
   "outputs": [],
   "source": [
    "template = \"\"\"\n",
    "Text:{text}\n",
    "You are an expert AI MCQ maker. From the above given text, it is you job to \\\n",
    "create a quiz of {number} multiple choice questions for {subject} students in a {difficult} level.\n",
    "Make Sure the questions do not get repeated and check all the questions to be vomforming the text as well.\n",
    "Make sure to format your response like RESPONSE_JSON below and use it as a guide. \\\n",
    "Ensure to make {number} MCQs\n",
    "### RESPONSE_JSON\n",
    "{response_json}\n",
    "\n",
    "\"\"\"\n",
    "\n",
    "# can write this as well,\n",
    "# template = \"\"\"\n",
    "# You are an AI teacher. Based on the following text, create 3 multiple-choice questions (MCQs) with the correct answers. \n",
    "# The questions should be relevant and based on the key concepts in the text. The format should be as follows:\n",
    "# 1. Question: {question}\n",
    "#    a) Option 1\n",
    "#    b) Option 2\n",
    "#    c) Option 3\n",
    "#    d) Option 4\n",
    "#    Correct answer: {correct_answer}\n",
    "\n",
    "# Text: {text}\n",
    "\n",
    "# Please generate the MCQs.\n",
    "# \"\"\""
   ]
  },
  {
   "cell_type": "code",
   "execution_count": 44,
   "metadata": {},
   "outputs": [],
   "source": [
    "quiz_Generation_Template = PromptTemplate(\n",
    "    input_variables=[\"text\", \"number\", \"subject\", \"tone\", \"response_json\"],\n",
    "    template=template\n",
    ")"
   ]
  },
  {
   "cell_type": "code",
   "execution_count": 48,
   "metadata": {},
   "outputs": [],
   "source": [
    "quiz_chain=LLMChain(llm=model, prompt=quiz_Generation_Template, output_key=\"quiz\", verbose=True)"
   ]
  },
  {
   "cell_type": "code",
   "execution_count": 20,
   "metadata": {},
   "outputs": [],
   "source": [
    "TEMPLATE2=\"\"\"\n",
    "You are an expert english grammarian and writer. Given a Multiple Choice Quiz for {subject} students.\\\n",
    "You need to evaluate the complexity of the question and give a complete analysis of the quiz. Only use at max 50 words for complexity analysis. \n",
    "if the quiz is not at per with the cognitive and analytical abilities of the students,\\\n",
    "update the quiz questions which needs to be changed and change the tone such that it perfectly fits the student abilities\n",
    "Quiz_MCQs:\n",
    "{quiz}\n",
    "\n",
    "Check from an expert English Writer of the above quiz:\n",
    "\"\"\""
   ]
  },
  {
   "cell_type": "code",
   "execution_count": 43,
   "metadata": {},
   "outputs": [],
   "source": [
    "quiz_evaluation_prompt=PromptTemplate(\n",
    "    input_variables=[\"subject\", \"quiz\"], \n",
    "    template=TEMPLATE2\n",
    "    )"
   ]
  },
  {
   "cell_type": "code",
   "execution_count": 39,
   "metadata": {},
   "outputs": [],
   "source": [
    "review_chain=LLMChain(llm=model, prompt=quiz_evaluation_prompt, output_key=\"review\", verbose=True)"
   ]
  },
  {
   "cell_type": "code",
   "execution_count": 50,
   "metadata": {},
   "outputs": [],
   "source": [
    "generate_evaluate_chain=SequentialChain(chains=[quiz_chain, review_chain], input_variables=[\"text\", \"number\", \"subject\", \"tone\", \"response_json\", \"difficult\"],\n",
    "                                        output_variables=[\"quiz\", \"review\"], verbose=True,)"
   ]
  },
  {
   "cell_type": "code",
   "execution_count": 51,
   "metadata": {},
   "outputs": [],
   "source": [
    "file_path=r\"C:\\Users\\divya\\OneDrive\\Project(MCQgen)\\data.txt\""
   ]
  },
  {
   "cell_type": "code",
   "execution_count": 52,
   "metadata": {},
   "outputs": [
    {
     "data": {
      "text/plain": [
       "'C:\\\\Users\\\\divya\\\\OneDrive\\\\Project(MCQgen)\\\\data.txt'"
      ]
     },
     "execution_count": 52,
     "metadata": {},
     "output_type": "execute_result"
    }
   ],
   "source": [
    "file_path"
   ]
  },
  {
   "cell_type": "code",
   "execution_count": 53,
   "metadata": {},
   "outputs": [],
   "source": [
    "with open(file_path, \"r\") as file:\n",
    "    TEXT = file.read()"
   ]
  },
  {
   "cell_type": "code",
   "execution_count": 54,
   "metadata": {},
   "outputs": [
    {
     "name": "stdout",
     "output_type": "stream",
     "text": [
      "The Tournament of Power was originally conceived by Zeno after witnessing the Tournament of Destroyers held by Beerus and Champa. After enjoying the tournament for its entertainment value and the spectacle of the participating fighters, Zeno determined that a larger competition involving all of the Universes would prove even more entertaining.\n",
      "\n",
      "Later, after meeting the Future Zeno, Zeno had more or less forgotten about the tournament until reminded by an eager Goku. Having not seen the original martial arts competition, the Future Zeno was uncertain of the idea, leading to the need for the Zeno Expo, a smaller demonstration of a fighting competition.\n",
      "\n",
      "It was at the Zeno Expo where the stakes of the Tournament of Power were set forth. Per the wishes of the two Zenos, the Grand Minister announced that the eight universes with the lowest fighter levels would be required to compete. The Universes that did not win the competition would immediately be erased from existence by the two Omni-Kings, resulting in the loss of more than half of the multiverse. To the shock of all present, it was declared that even the Gods of Destruction and Supreme Kais of the defeated Universes would be erased as well. The only ones spared from erasure in a defeated universe would be the attendants to the Gods of Destruction. Universes 1, 5, 8, and 12 were exempt from participating in the tournament due to their inhabitants having an average Mortal Level above 7. The eight other Universes, such as Universe 7 (level 3.18) or Universe 9 (level 1.86), are left to fight to determine which one of them deserves to be saved.\n",
      "\n",
      "Originally, the majority of the participants blamed Goku for endangering the Universes' existence by putting the idea for the tournament into Zeno's head. However, it was eventually revealed that Zeno always intended to destroy the Universes, and the tournament was the last minute change to allow one Universe to be spared.\n",
      "\n",
      "Following the Zeno Expo, the eight participating universes were given approximately forty-eight hours to select and gather ten fighters each to compete whilst the Grand Priest built the tournament fighting stage.\n",
      "\n",
      "The tournament occurred in the Null Realm, an isolated place outside of the twelve universes with literally no time or space, allowing the participants to use the fullest extent of their powers. Like the Tournament of Destroyers, the Super Dragon Balls were announced as the prize for the winner of the tournament. The tournament arena was designed by the Great Priest and forged from an alloy known as Kachi Katchin. In the anime, prior to the start of the tournament, three of the Gods of Destruction, Iwan, Arak, Liquiir, battled one another in order to test the stage's durability while Giin opted out of fighting stating that the result would be obvious. These three gods were later required to repair the damage their battle inflicted upon the arena, as well as see to any design flaws made apparent in the Grand Minister's original design.\n",
      "\n",
      "Each team in the tournament consists of ten warriors from each of the eight participating universes, adding up to a total of 80 fighters. Unlike the World Martial Arts Tournament, the Tournament of Power is a survival-style battle royale in which all 80 fighters face each other simultaneously and must knock their opponents off of the ring to defeat them. Warriors who are rendered unconscious are still considered active competitors until they are removed from the stage. The warriors who get knocked off the stage are immediately teleported to the spectator bench to observe the remainder of the competition along with the gods of their respective Universe. The use of weapons and killing are prohibited during the match and the ability of Flight is disabled (though participants with wings or possess non-ki-based flight abilities are not prohibited from doing so). A new rule prohibiting the use of healing items was announced right before the tournament started. The match will last 100 takks (approx. 48 minutes on Earth) and the Universe with the most survivors, or sole survivor if there is one, will be the winner.\n",
      "\n",
      "In the anime, according to the Grand Minister at the conclusion of the Tournament of Power, Zeno has foreseen the outcome of the tournament, and had decided that the wish that was made by the winner would signify if the remaining universe deserved to survive. In this way, if the winner made a selfish wish, all universes would be erased, and if a selfless wish was made by a virtuous being as Zeno predicted, any wish would be allowed and the victors would not be erased.\n",
      "\n",
      "Rules.\n"
     ]
    }
   ],
   "source": [
    "print(TEXT)"
   ]
  },
  {
   "cell_type": "code",
   "execution_count": 98,
   "metadata": {},
   "outputs": [],
   "source": [
    "# Serialize the Python dictionary into a JSON-formatted string\n",
    "RESPONSE_JSON=json.dumps(RESPONSE_JSON)"
   ]
  },
  {
   "cell_type": "code",
   "execution_count": 99,
   "metadata": {},
   "outputs": [],
   "source": [
    "NUMBER=5 \n",
    "SUBJECT=\"biology\"\n",
    "TONE=\"Medium\""
   ]
  },
  {
   "cell_type": "code",
   "execution_count": 100,
   "metadata": {},
   "outputs": [],
   "source": [
    "class LoggingHandler(BaseCallbackHandler):\n",
    "    def __init__(self):\n",
    "        self.total_tokens = 0\n",
    "        self.responses = []\n",
    "    def on_chat_model_start(\n",
    "        self, serialized: Dict[dict, Any], messages: List[List[BaseMessage]], **kwargs\n",
    "    ) -> None:\n",
    "        print(\"Chat model started\")\n",
    "\n",
    "    def on_llm_end(self, response: LLMResult, **kwargs) -> None:\n",
    "        print(f\"Chat model ended, response: {response}\")\n",
    "\n",
    "        #Assuming response contains token information\n",
    "        if hasattr(response, 'usage'):\n",
    "            self.total_tokens += response.usage.get('total_tokens', 0)\n",
    "            self.responses.append(response)\n",
    "\n",
    "    def on_chain_start(\n",
    "        self, serialized: Dict[dict, Any], inputs: Dict[dict, Any], **kwargs\n",
    "    ) -> None:\n",
    "        if serialized is not None:\n",
    "            print(f\"Chain {serialized.get('name')} started\")\n",
    "        else:\n",
    "            print(\"Chain started with no serialized data\")\n",
    "\n",
    "    def on_chain_end(self, outputs: Dict[dict, Any], **kwargs) -> None:\n",
    "        print(f\"Chain ended, outputs: {outputs}\")\n",
    "        print(f\"Total tokens used: {self.total_tokens}\")"
   ]
  },
  {
   "cell_type": "code",
   "execution_count": 101,
   "metadata": {},
   "outputs": [],
   "source": [
    "logging_handler = LoggingHandler()"
   ]
  },
  {
   "cell_type": "code",
   "execution_count": 102,
   "metadata": {},
   "outputs": [
    {
     "name": "stderr",
     "output_type": "stream",
     "text": [
      "Error in StdOutCallbackHandler.on_chain_start callback: AttributeError(\"'NoneType' object has no attribute 'get'\")\n",
      "Error in StdOutCallbackHandler.on_chain_start callback: AttributeError(\"'NoneType' object has no attribute 'get'\")\n"
     ]
    },
    {
     "name": "stdout",
     "output_type": "stream",
     "text": [
      "Prompt after formatting:\n",
      "\u001b[32;1m\u001b[1;3m\n",
      "Text:The Tournament of Power was originally conceived by Zeno after witnessing the Tournament of Destroyers held by Beerus and Champa. After enjoying the tournament for its entertainment value and the spectacle of the participating fighters, Zeno determined that a larger competition involving all of the Universes would prove even more entertaining.\n",
      "\n",
      "Later, after meeting the Future Zeno, Zeno had more or less forgotten about the tournament until reminded by an eager Goku. Having not seen the original martial arts competition, the Future Zeno was uncertain of the idea, leading to the need for the Zeno Expo, a smaller demonstration of a fighting competition.\n",
      "\n",
      "It was at the Zeno Expo where the stakes of the Tournament of Power were set forth. Per the wishes of the two Zenos, the Grand Minister announced that the eight universes with the lowest fighter levels would be required to compete. The Universes that did not win the competition would immediately be erased from existence by the two Omni-Kings, resulting in the loss of more than half of the multiverse. To the shock of all present, it was declared that even the Gods of Destruction and Supreme Kais of the defeated Universes would be erased as well. The only ones spared from erasure in a defeated universe would be the attendants to the Gods of Destruction. Universes 1, 5, 8, and 12 were exempt from participating in the tournament due to their inhabitants having an average Mortal Level above 7. The eight other Universes, such as Universe 7 (level 3.18) or Universe 9 (level 1.86), are left to fight to determine which one of them deserves to be saved.\n",
      "\n",
      "Originally, the majority of the participants blamed Goku for endangering the Universes' existence by putting the idea for the tournament into Zeno's head. However, it was eventually revealed that Zeno always intended to destroy the Universes, and the tournament was the last minute change to allow one Universe to be spared.\n",
      "\n",
      "Following the Zeno Expo, the eight participating universes were given approximately forty-eight hours to select and gather ten fighters each to compete whilst the Grand Priest built the tournament fighting stage.\n",
      "\n",
      "The tournament occurred in the Null Realm, an isolated place outside of the twelve universes with literally no time or space, allowing the participants to use the fullest extent of their powers. Like the Tournament of Destroyers, the Super Dragon Balls were announced as the prize for the winner of the tournament. The tournament arena was designed by the Great Priest and forged from an alloy known as Kachi Katchin. In the anime, prior to the start of the tournament, three of the Gods of Destruction, Iwan, Arak, Liquiir, battled one another in order to test the stage's durability while Giin opted out of fighting stating that the result would be obvious. These three gods were later required to repair the damage their battle inflicted upon the arena, as well as see to any design flaws made apparent in the Grand Minister's original design.\n",
      "\n",
      "Each team in the tournament consists of ten warriors from each of the eight participating universes, adding up to a total of 80 fighters. Unlike the World Martial Arts Tournament, the Tournament of Power is a survival-style battle royale in which all 80 fighters face each other simultaneously and must knock their opponents off of the ring to defeat them. Warriors who are rendered unconscious are still considered active competitors until they are removed from the stage. The warriors who get knocked off the stage are immediately teleported to the spectator bench to observe the remainder of the competition along with the gods of their respective Universe. The use of weapons and killing are prohibited during the match and the ability of Flight is disabled (though participants with wings or possess non-ki-based flight abilities are not prohibited from doing so). A new rule prohibiting the use of healing items was announced right before the tournament started. The match will last 100 takks (approx. 48 minutes on Earth) and the Universe with the most survivors, or sole survivor if there is one, will be the winner.\n",
      "\n",
      "In the anime, according to the Grand Minister at the conclusion of the Tournament of Power, Zeno has foreseen the outcome of the tournament, and had decided that the wish that was made by the winner would signify if the remaining universe deserved to survive. In this way, if the winner made a selfish wish, all universes would be erased, and if a selfless wish was made by a virtuous being as Zeno predicted, any wish would be allowed and the victors would not be erased.\n",
      "\n",
      "Rules.\n",
      "You are an expert AI MCQ maker. From the above given text, it is you job to create a quiz of 5 multiple choice questions for biology students in a Medium level.\n",
      "Make Sure the questions do not get repeated and check all the questions to be vomforming the text as well.\n",
      "Make sure to format your response like RESPONSE_JSON below and use it as a guide. Ensure to make 5 MCQs\n",
      "### RESPONSE_JSON\n",
      "{\"1\": {\"Q1\": \"Multiple Choice Question\", \"Options\": {\"a\": \"choose this\", \"b\": \"choose this\", \"c\": \"choose this\", \"d\": \"choose this\"}, \"Correct\": \"Correct Answer\"}, \"2\": {\"Q2\": \"Multiple Choice Question\", \"Options\": {\"a\": \"choose this\", \"b\": \"choose this\", \"c\": \"choose this\", \"d\": \"choose this\"}, \"Correct\": \"Correct Answer\"}, \"3\": {\"Q3\": \"Multiple Choice Question\", \"Options\": {\"a\": \"choose this\", \"b\": \"choose this\", \"c\": \"choose this\", \"d\": \"choose this\"}, \"Correct\": \"Correct Answer\"}}\n",
      "\n",
      "\u001b[0m\n"
     ]
    },
    {
     "name": "stderr",
     "output_type": "stream",
     "text": [
      "Error in StdOutCallbackHandler.on_chain_start callback: AttributeError(\"'NoneType' object has no attribute 'get'\")\n"
     ]
    },
    {
     "name": "stdout",
     "output_type": "stream",
     "text": [
      "\n",
      "\u001b[1m> Finished chain.\u001b[0m\n",
      "Prompt after formatting:\n",
      "\u001b[32;1m\u001b[1;3m\n",
      "You are an expert english grammarian and writer. Given a Multiple Choice Quiz for biology students.You need to evaluate the complexity of the question and give a complete analysis of the quiz. Only use at max 50 words for complexity analysis. \n",
      "if the quiz is not at per with the cognitive and analytical abilities of the students,update the quiz questions which needs to be changed and change the tone such that it perfectly fits the student abilities\n",
      "Quiz_MCQs:\n",
      "Here are 5 medium-level MCQs based on the provided text:\n",
      "\n",
      "{\n",
      "\"1\": {\n",
      "\"Q1\": \"Who conceived the idea of the Tournament of Power?\",\n",
      "\"Options\": {\n",
      "\"a\": \"Beerlus and Champa\",\n",
      "\"b\": \"Zeno\",\n",
      "\"c\": \"Grand Minister\",\n",
      "\"d\": \"Future Zeno\"\n",
      "},\n",
      "\"Correct\": \"b\"\n",
      "},\n",
      "\n",
      "\"2\": {\n",
      "\"Q2\": \"What was the original purpose of the Tournament of Power?\",\n",
      "\"Options\": {\n",
      "\"a\": \"To determine the strongest fighter in the multiverse\",\n",
      "\"b\": \"To entertain the Omni-Kings\",\n",
      "\"c\": \"To erase the weakest universes\",\n",
      "\"d\": \"To reward the strongest warriors\"\n",
      "},\n",
      "\"Correct\": \"b\"\n",
      "},\n",
      "\n",
      "\"3\": {\n",
      "\"Q3\": \"What were the stakes of the Tournament of Power?\",\n",
      "\"Options\": {\n",
      "\"a\": \"The winning universe would gain more power\",\n",
      "\"b\": \"The losing universes would be erased\",\n",
      "\"c\": \"The tournament would be cancelled\",\n",
      "\"d\": \"The gods of destruction would be erased\"\n",
      "},\n",
      "\"Correct\": \"b\"\n",
      "},\n",
      "\n",
      "\"4\": {\n",
      "\"Q4\": \"What was the format of the Tournament of Power?\",\n",
      "\"Options\": {\n",
      "\"a\": \"A one-on-one elimination tournament\",\n",
      "\"b\": \"A survival-style battle royale\",\n",
      "\"c\": \"A team-based competition\",\n",
      "\"d\": \"A time-trial competition\"\n",
      "},\n",
      "\"Correct\": \"b\"\n",
      "},\n",
      "\n",
      "\"5\": {\n",
      "\"Q5\": \"What was the purpose of the Zeno Expo?\",\n",
      "\"Options\": {\n",
      "\"a\": \"To demonstrate the tournament format\",\n",
      "\"b\": \"To announce the tournament rules\",\n",
      "\"c\": \"To test the arena's durability\",\n",
      "\"d\": \"To introduce the Omni-Kings\"\n",
      "},\n",
      "\"Correct\": \"a\"\n",
      "}\n",
      "\n",
      "Check from an expert English Writer of the above quiz:\n",
      "\u001b[0m\n",
      "\n",
      "\u001b[1m> Finished chain.\u001b[0m\n",
      "\n",
      "\u001b[1m> Finished chain.\u001b[0m\n"
     ]
    }
   ],
   "source": [
    "response = generate_evaluate_chain.invoke({\"text\": TEXT, \"number\": NUMBER, \"subject\": SUBJECT, \"tone\": TONE, \"response_json\": RESPONSE_JSON, \"difficult\": \"Medium\"}, callback_handler=logging_handler)"
   ]
  },
  {
   "cell_type": "code",
   "execution_count": 103,
   "metadata": {},
   "outputs": [
    {
     "name": "stdout",
     "output_type": "stream",
     "text": [
      "{'text': \"The Tournament of Power was originally conceived by Zeno after witnessing the Tournament of Destroyers held by Beerus and Champa. After enjoying the tournament for its entertainment value and the spectacle of the participating fighters, Zeno determined that a larger competition involving all of the Universes would prove even more entertaining.\\n\\nLater, after meeting the Future Zeno, Zeno had more or less forgotten about the tournament until reminded by an eager Goku. Having not seen the original martial arts competition, the Future Zeno was uncertain of the idea, leading to the need for the Zeno Expo, a smaller demonstration of a fighting competition.\\n\\nIt was at the Zeno Expo where the stakes of the Tournament of Power were set forth. Per the wishes of the two Zenos, the Grand Minister announced that the eight universes with the lowest fighter levels would be required to compete. The Universes that did not win the competition would immediately be erased from existence by the two Omni-Kings, resulting in the loss of more than half of the multiverse. To the shock of all present, it was declared that even the Gods of Destruction and Supreme Kais of the defeated Universes would be erased as well. The only ones spared from erasure in a defeated universe would be the attendants to the Gods of Destruction. Universes 1, 5, 8, and 12 were exempt from participating in the tournament due to their inhabitants having an average Mortal Level above 7. The eight other Universes, such as Universe 7 (level 3.18) or Universe 9 (level 1.86), are left to fight to determine which one of them deserves to be saved.\\n\\nOriginally, the majority of the participants blamed Goku for endangering the Universes' existence by putting the idea for the tournament into Zeno's head. However, it was eventually revealed that Zeno always intended to destroy the Universes, and the tournament was the last minute change to allow one Universe to be spared.\\n\\nFollowing the Zeno Expo, the eight participating universes were given approximately forty-eight hours to select and gather ten fighters each to compete whilst the Grand Priest built the tournament fighting stage.\\n\\nThe tournament occurred in the Null Realm, an isolated place outside of the twelve universes with literally no time or space, allowing the participants to use the fullest extent of their powers. Like the Tournament of Destroyers, the Super Dragon Balls were announced as the prize for the winner of the tournament. The tournament arena was designed by the Great Priest and forged from an alloy known as Kachi Katchin. In the anime, prior to the start of the tournament, three of the Gods of Destruction, Iwan, Arak, Liquiir, battled one another in order to test the stage's durability while Giin opted out of fighting stating that the result would be obvious. These three gods were later required to repair the damage their battle inflicted upon the arena, as well as see to any design flaws made apparent in the Grand Minister's original design.\\n\\nEach team in the tournament consists of ten warriors from each of the eight participating universes, adding up to a total of 80 fighters. Unlike the World Martial Arts Tournament, the Tournament of Power is a survival-style battle royale in which all 80 fighters face each other simultaneously and must knock their opponents off of the ring to defeat them. Warriors who are rendered unconscious are still considered active competitors until they are removed from the stage. The warriors who get knocked off the stage are immediately teleported to the spectator bench to observe the remainder of the competition along with the gods of their respective Universe. The use of weapons and killing are prohibited during the match and the ability of Flight is disabled (though participants with wings or possess non-ki-based flight abilities are not prohibited from doing so). A new rule prohibiting the use of healing items was announced right before the tournament started. The match will last 100 takks (approx. 48 minutes on Earth) and the Universe with the most survivors, or sole survivor if there is one, will be the winner.\\n\\nIn the anime, according to the Grand Minister at the conclusion of the Tournament of Power, Zeno has foreseen the outcome of the tournament, and had decided that the wish that was made by the winner would signify if the remaining universe deserved to survive. In this way, if the winner made a selfish wish, all universes would be erased, and if a selfless wish was made by a virtuous being as Zeno predicted, any wish would be allowed and the victors would not be erased.\\n\\nRules.\", 'number': 5, 'subject': 'biology', 'tone': 'Medium', 'response_json': '{\"1\": {\"Q1\": \"Multiple Choice Question\", \"Options\": {\"a\": \"choose this\", \"b\": \"choose this\", \"c\": \"choose this\", \"d\": \"choose this\"}, \"Correct\": \"Correct Answer\"}, \"2\": {\"Q2\": \"Multiple Choice Question\", \"Options\": {\"a\": \"choose this\", \"b\": \"choose this\", \"c\": \"choose this\", \"d\": \"choose this\"}, \"Correct\": \"Correct Answer\"}, \"3\": {\"Q3\": \"Multiple Choice Question\", \"Options\": {\"a\": \"choose this\", \"b\": \"choose this\", \"c\": \"choose this\", \"d\": \"choose this\"}, \"Correct\": \"Correct Answer\"}}', 'difficult': 'Medium', 'quiz': 'Here are 5 medium-level MCQs based on the provided text:\\n\\n{\\n\"1\": {\\n\"Q1\": \"Who conceived the idea of the Tournament of Power?\",\\n\"Options\": {\\n\"a\": \"Beerlus and Champa\",\\n\"b\": \"Zeno\",\\n\"c\": \"Grand Minister\",\\n\"d\": \"Future Zeno\"\\n},\\n\"Correct\": \"b\"\\n},\\n\\n\"2\": {\\n\"Q2\": \"What was the original purpose of the Tournament of Power?\",\\n\"Options\": {\\n\"a\": \"To determine the strongest fighter in the multiverse\",\\n\"b\": \"To entertain the Omni-Kings\",\\n\"c\": \"To erase the weakest universes\",\\n\"d\": \"To reward the strongest warriors\"\\n},\\n\"Correct\": \"b\"\\n},\\n\\n\"3\": {\\n\"Q3\": \"What were the stakes of the Tournament of Power?\",\\n\"Options\": {\\n\"a\": \"The winning universe would gain more power\",\\n\"b\": \"The losing universes would be erased\",\\n\"c\": \"The tournament would be cancelled\",\\n\"d\": \"The gods of destruction would be erased\"\\n},\\n\"Correct\": \"b\"\\n},\\n\\n\"4\": {\\n\"Q4\": \"What was the format of the Tournament of Power?\",\\n\"Options\": {\\n\"a\": \"A one-on-one elimination tournament\",\\n\"b\": \"A survival-style battle royale\",\\n\"c\": \"A team-based competition\",\\n\"d\": \"A time-trial competition\"\\n},\\n\"Correct\": \"b\"\\n},\\n\\n\"5\": {\\n\"Q5\": \"What was the purpose of the Zeno Expo?\",\\n\"Options\": {\\n\"a\": \"To demonstrate the tournament format\",\\n\"b\": \"To announce the tournament rules\",\\n\"c\": \"To test the arena\\'s durability\",\\n\"d\": \"To introduce the Omni-Kings\"\\n},\\n\"Correct\": \"a\"\\n}', 'review': 'Complexity Analysis:\\nThe quiz is moderately challenging, with a mix of factual and analytical questions. The language used is straightforward, but some questions require a good understanding of the context and plot. Overall, the quiz is suitable for biology students who have prior knowledge of the subject matter.\\n\\nRecommendations:\\nTo make the quiz more engaging and challenging for biology students, I suggest updating the following questions:\\n\\n* Q2: Instead of asking about the original purpose of the Tournament of Power, ask a more specific question, such as \"What was the main criterion for determining the winner of the Tournament of Power?\"\\n* Q3: Instead of asking about the stakes of the Tournament of Power, ask a more challenging question, such as \"What were the consequences of losing the Tournament of Power for the participating universes?\"\\n\\nThe tone of the quiz remains friendly and approachable, but the questions are tweaked to test the students\\' critical thinking and analytical skills.\\n\\nHere is the revised quiz:\\n\\n\"1\": {\\n\"Q1\": \"Who conceived the idea of the Tournament of Power?\",\\n\"Options\": {\\n\"a\": \"Beerlus and Champa\",\\n\"b\": \"Zeno\",\\n\"c\": \"Grand Minister\",\\n\"d\": \"Future Zeno\"\\n},\\n\"Correct\": \"b\"\\n},\\n\\n\"2\": {\\n\"Q2\": \"What was the main criterion for determining the winner of the Tournament of Power?\",\\n\"Options\": {\\n\"a\": \"The number of participants eliminated\",\\n\"b\": \"The number of wins\",\\n\"c\": \"The total damage dealt\",\\n\"d\": \"The overall strength of the warriors\"\\n},\\n\"Correct\": \"d\"\\n},\\n\\n\"3\": {\\n\"Q3\": \"What were the consequences of losing the Tournament of Power for the participating universes?\",\\n\"Options\": {\\n\"a\": \"Erasure from existence\",\\n\"b\": \"Loss of power and resources\",\\n\"c\": \"Decreased morale and confidence\",\\n\"d\": \"All of the above\"\\n},\\n\"Correct\": \"d\"\\n},\\n\\n\"4\": {\\n\"Q4\": \"What was the format of the Tournament of Power?\",\\n\"Options\": {\\n\"a\": \"A one-on-one elimination tournament\",\\n\"b\": \"A survival-style battle royale\",\\n\"c\": \"A team-based competition\",\\n\"d\": \"A time-trial competition\"\\n},\\n\"Correct\": \"b\"\\n},\\n\\n\"5\": {\\n\"Q5\": \"What was the purpose of the Zeno Expo?\",\\n\"Options\": {\\n\"a\": \"To demonstrate the tournament format\",\\n\"b\": \"To announce the tournament rules\",\\n\"c\": \"To test the arena\\'s durability\",\\n\"d\": \"To introduce the Omni-Kings\"\\n},\\n\"Correct\": \"a\"\\n}\\n\\nThe revised quiz is more challenging and engaging, testing the students\\' analytical and critical thinking skills.'}\n"
     ]
    }
   ],
   "source": [
    "print(response)"
   ]
  },
  {
   "cell_type": "code",
   "execution_count": 104,
   "metadata": {},
   "outputs": [
    {
     "name": "stdout",
     "output_type": "stream",
     "text": [
      "Total tokens used: 0\n"
     ]
    }
   ],
   "source": [
    "print(f\"Total tokens used: {logging_handler.total_tokens}\")"
   ]
  },
  {
   "cell_type": "code",
   "execution_count": 105,
   "metadata": {},
   "outputs": [],
   "source": [
    "quiz = response.get(\"quiz\")"
   ]
  },
  {
   "cell_type": "code",
   "execution_count": 106,
   "metadata": {},
   "outputs": [
    {
     "name": "stdout",
     "output_type": "stream",
     "text": [
      "Here are 5 medium-level MCQs based on the provided text:\n",
      "\n",
      "{\n",
      "\"1\": {\n",
      "\"Q1\": \"Who conceived the idea of the Tournament of Power?\",\n",
      "\"Options\": {\n",
      "\"a\": \"Beerlus and Champa\",\n",
      "\"b\": \"Zeno\",\n",
      "\"c\": \"Grand Minister\",\n",
      "\"d\": \"Future Zeno\"\n",
      "},\n",
      "\"Correct\": \"b\"\n",
      "},\n",
      "\n",
      "\"2\": {\n",
      "\"Q2\": \"What was the original purpose of the Tournament of Power?\",\n",
      "\"Options\": {\n",
      "\"a\": \"To determine the strongest fighter in the multiverse\",\n",
      "\"b\": \"To entertain the Omni-Kings\",\n",
      "\"c\": \"To erase the weakest universes\",\n",
      "\"d\": \"To reward the strongest warriors\"\n",
      "},\n",
      "\"Correct\": \"b\"\n",
      "},\n",
      "\n",
      "\"3\": {\n",
      "\"Q3\": \"What were the stakes of the Tournament of Power?\",\n",
      "\"Options\": {\n",
      "\"a\": \"The winning universe would gain more power\",\n",
      "\"b\": \"The losing universes would be erased\",\n",
      "\"c\": \"The tournament would be cancelled\",\n",
      "\"d\": \"The gods of destruction would be erased\"\n",
      "},\n",
      "\"Correct\": \"b\"\n",
      "},\n",
      "\n",
      "\"4\": {\n",
      "\"Q4\": \"What was the format of the Tournament of Power?\",\n",
      "\"Options\": {\n",
      "\"a\": \"A one-on-one elimination tournament\",\n",
      "\"b\": \"A survival-style battle royale\",\n",
      "\"c\": \"A team-based competition\",\n",
      "\"d\": \"A time-trial competition\"\n",
      "},\n",
      "\"Correct\": \"b\"\n",
      "},\n",
      "\n",
      "\"5\": {\n",
      "\"Q5\": \"What was the purpose of the Zeno Expo?\",\n",
      "\"Options\": {\n",
      "\"a\": \"To demonstrate the tournament format\",\n",
      "\"b\": \"To announce the tournament rules\",\n",
      "\"c\": \"To test the arena's durability\",\n",
      "\"d\": \"To introduce the Omni-Kings\"\n",
      "},\n",
      "\"Correct\": \"a\"\n",
      "}\n"
     ]
    }
   ],
   "source": [
    "print(quiz)"
   ]
  },
  {
   "cell_type": "code",
   "execution_count": 117,
   "metadata": {},
   "outputs": [],
   "source": [
    "#lines = quiz.splitlines()\n",
    "#quiz_without_first_line = \"\\n\".join(lines[1:])"
   ]
  },
  {
   "cell_type": "code",
   "execution_count": 118,
   "metadata": {},
   "outputs": [],
   "source": [
    "# \n",
    "quiz_new = pd.DataFrame(quiz.split(\"\\n\"), columns=[\"quiz\"])"
   ]
  },
  {
   "cell_type": "code",
   "execution_count": 116,
   "metadata": {},
   "outputs": [],
   "source": [
    "\n",
    "quiz_new.to_csv(\"quiz.csv\", index=False)"
   ]
  }
 ],
 "metadata": {
  "kernelspec": {
   "display_name": "mcqgen",
   "language": "python",
   "name": "python3"
  },
  "language_info": {
   "codemirror_mode": {
    "name": "ipython",
    "version": 3
   },
   "file_extension": ".py",
   "mimetype": "text/x-python",
   "name": "python",
   "nbconvert_exporter": "python",
   "pygments_lexer": "ipython3",
   "version": "3.8.20"
  }
 },
 "nbformat": 4,
 "nbformat_minor": 2
}
